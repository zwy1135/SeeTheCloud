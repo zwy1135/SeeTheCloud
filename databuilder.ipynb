{
 "cells": [
  {
   "cell_type": "markdown",
   "metadata": {},
   "source": [
    "# 构造数据集\n",
    "\n",
    "从wmo上爬取分类云图"
   ]
  },
  {
   "cell_type": "code",
   "execution_count": null,
   "metadata": {},
   "outputs": [],
   "source": [
    "import os\n",
    "from io import BytesIO"
   ]
  },
  {
   "cell_type": "code",
   "execution_count": null,
   "metadata": {},
   "outputs": [],
   "source": [
    "import requests as rq\n",
    "from bs4 import BeautifulSoup\n",
    "from PIL import Image"
   ]
  },
  {
   "cell_type": "code",
   "execution_count": null,
   "metadata": {},
   "outputs": [],
   "source": [
    "api_url = u\"https://cloudatlas.wmo.int/api/?&tag=&cldg={cloud_type}&cldt=&sp=&met=&cz=&clcode=&cmcode=&chcode=\"\n",
    "img_url = u\"https://cloudatlas.wmo.int/images/compressed/{name}\""
   ]
  },
  {
   "cell_type": "code",
   "execution_count": null,
   "metadata": {},
   "outputs": [],
   "source": [
    "def get_raw_response(cloud_type):\n",
    "    url = api_url.format(cloud_type=cloud_type)\n",
    "    res = rq.get(url)\n",
    "    if 200 == res.status_code:\n",
    "        return res.text\n",
    "    else:\n",
    "        return None"
   ]
  },
  {
   "cell_type": "code",
   "execution_count": null,
   "metadata": {},
   "outputs": [],
   "source": [
    "keyword_list = [u\"卷云\",u\"卷积云\",u\"卷层云\",u\"高积云\",u\"高层云\",u\"雨层云\",u\"层积云\",u\"层云\",u\"积云\",u\"积雨云\"]\n",
    "type_list = [u\"H1\",u\"H2\",u\"H3\",u\"M1\",u\"M2\",u\"M3\",\"L1\",u\"L2\",u\"L3\",u\"L4\"]"
   ]
  },
  {
   "cell_type": "code",
   "execution_count": null,
   "metadata": {},
   "outputs": [],
   "source": [
    "data_path = \"data\"\n",
    "test_data_path = \"test\""
   ]
  },
  {
   "cell_type": "code",
   "execution_count": null,
   "metadata": {},
   "outputs": [],
   "source": [
    "#for kw in keyword_list:\n",
    "#    os.system(\"mkdir %s\"%os.path.join(test_data_path,kw))"
   ]
  },
  {
   "cell_type": "code",
   "execution_count": null,
   "metadata": {},
   "outputs": [],
   "source": [
    "def parse_raw_response(res):\n",
    "    names = []\n",
    "    for line in res.strip().split('\\n'):\n",
    "        try:\n",
    "            idx,_,name,_,author = line.strip().split(';')\n",
    "            name,ext = os.path.splitext(name)\n",
    "            if(name.endswith(\"_m\")):\n",
    "                name = name[:-2]\n",
    "            full_name = \"{idx}_main_{name}{ext}\".format(idx=idx,name=name,ext=ext)\n",
    "            names.append(full_name)\n",
    "        except:\n",
    "            print(\"err in {}\".format(line))\n",
    "        \n",
    "    return names"
   ]
  },
  {
   "cell_type": "code",
   "execution_count": null,
   "metadata": {},
   "outputs": [],
   "source": [
    "def download_img(img_name,path):\n",
    "    url = img_url.format(name=img_name)\n",
    "    full_path = os.path.join(path,img_name)\n",
    "    print(\"downloading {}\".format(url))\n",
    "    if(os.path.exists(full_path)):\n",
    "        return\n",
    "    with open(full_path,\"wb\") as f:\n",
    "        f.write(rq.get(url).content)"
   ]
  },
  {
   "cell_type": "code",
   "execution_count": null,
   "metadata": {},
   "outputs": [],
   "source": [
    "for idx,path in enumerate(keyword_list):\n",
    "    cloud_type = type_list[idx]\n",
    "    data_save_path = os.path.join(data_path,path)\n",
    "    test_save_path = os.path.join(test_data_path,path)\n",
    "    print(\"handling {type}\".format(type=path))\n",
    "    raw = get_raw_response(cloud_type)\n",
    "    names = parse_raw_response(raw)\n",
    "    \n",
    "    split_point = int(len(names)*0.8)\n",
    "    data = names[:split_point]\n",
    "    test = names[split_point:]\n",
    "    \n",
    "    for n in data:\n",
    "        download_img(n,data_save_path)\n",
    "    for n in test:\n",
    "        download_img(n,test_save_path)"
   ]
  },
  {
   "cell_type": "code",
   "execution_count": null,
   "metadata": {},
   "outputs": [],
   "source": [
    "raw"
   ]
  },
  {
   "cell_type": "code",
   "execution_count": null,
   "metadata": {},
   "outputs": [],
   "source": []
  }
 ],
 "metadata": {
  "kernelspec": {
   "display_name": "Python 3",
   "language": "python",
   "name": "python3"
  },
  "language_info": {
   "codemirror_mode": {
    "name": "ipython",
    "version": 3
   },
   "file_extension": ".py",
   "mimetype": "text/x-python",
   "name": "python",
   "nbconvert_exporter": "python",
   "pygments_lexer": "ipython3",
   "version": "3.6.5"
  }
 },
 "nbformat": 4,
 "nbformat_minor": 2
}
