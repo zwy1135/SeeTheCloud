{
 "cells": [
  {
   "cell_type": "markdown",
   "metadata": {},
   "source": [
    "# bing 扒下来的数据不靠谱，这个文件没用了"
   ]
  },
  {
   "cell_type": "markdown",
   "metadata": {},
   "source": [
    "# 构造数据集\n",
    "\n",
    "从bing上面爬取图片数据"
   ]
  },
  {
   "cell_type": "code",
   "execution_count": null,
   "metadata": {},
   "outputs": [],
   "source": [
    "import os\n",
    "from io import BytesIO"
   ]
  },
  {
   "cell_type": "code",
   "execution_count": null,
   "metadata": {},
   "outputs": [],
   "source": [
    "import requests as rq\n",
    "from bs4 import BeautifulSoup\n",
    "from PIL import Image"
   ]
  },
  {
   "cell_type": "code",
   "execution_count": null,
   "metadata": {},
   "outputs": [],
   "source": [
    "api_url = u\"https://cn.bing.com/images/async?q={keyword}&first={first}&count={count}\""
   ]
  },
  {
   "cell_type": "code",
   "execution_count": null,
   "metadata": {},
   "outputs": [],
   "source": [
    "def get_raw_response(keyword,first=0,count=100):\n",
    "    url = api_url.format(keyword=keyword,first=first,count=count)\n",
    "    res = rq.get(url)\n",
    "    if 200 == res.status_code:\n",
    "        return res.text\n",
    "    else:\n",
    "        return None"
   ]
  },
  {
   "cell_type": "code",
   "execution_count": null,
   "metadata": {},
   "outputs": [],
   "source": [
    "keyword_list = [u\"卷云\",u\"卷积云\",u\"卷层云\",u\"高积云\",u\"高层云\",u\"雨层云\",u\"层积云\",u\"层云\",u\"积云\",u\"积雨云\"]"
   ]
  },
  {
   "cell_type": "code",
   "execution_count": null,
   "metadata": {},
   "outputs": [],
   "source": [
    "data_path = \"data\"\n",
    "test_data_path = \"test\""
   ]
  },
  {
   "cell_type": "code",
   "execution_count": null,
   "metadata": {},
   "outputs": [],
   "source": [
    "#for kw in keyword_list:\n",
    "#    os.system(\"mkdir %s\"%os.path.join(data_path,kw))"
   ]
  },
  {
   "cell_type": "code",
   "execution_count": null,
   "metadata": {},
   "outputs": [],
   "source": [
    "for kw in keyword_list:\n",
    "    print(\"processing %s\"%kw)\n",
    "    res = get_raw_response(kw)\n",
    "    if not res:\n",
    "        continue\n",
    "    soup = BeautifulSoup(res)\n",
    "    tags = soup.findAll(lambda tag:tag.has_attr(\"class\") and \"mimg\" in tag['class'])\n",
    "    for i,t in enumerate(tags):\n",
    "        if t.has_attr(\"src\"):\n",
    "            img_url = t[\"src\"]\n",
    "        elif t.has_attr(\"data-src\"):\n",
    "            img_url = t[\"data-src\"]\n",
    "        else:\n",
    "            continue\n",
    "        print(\"handling idx %d in %s\"%(i,kw))\n",
    "        raw_img = rq.get(img_url).content\n",
    "        with BytesIO() as tmp:\n",
    "            tmp.write(raw_img)\n",
    "            img = Image.open(tmp)\n",
    "            img_name = \"%d.jpg\"%i\n",
    "            full_path = os.path.join(data_path,kw,img_name)\n",
    "            img.save(full_path)"
   ]
  },
  {
   "cell_type": "code",
   "execution_count": null,
   "metadata": {},
   "outputs": [],
   "source": []
  },
  {
   "cell_type": "code",
   "execution_count": null,
   "metadata": {},
   "outputs": [],
   "source": []
  },
  {
   "cell_type": "code",
   "execution_count": null,
   "metadata": {},
   "outputs": [],
   "source": []
  }
 ],
 "metadata": {
  "kernelspec": {
   "display_name": "Python 3",
   "language": "python",
   "name": "python3"
  },
  "language_info": {
   "codemirror_mode": {
    "name": "ipython",
    "version": 3
   },
   "file_extension": ".py",
   "mimetype": "text/x-python",
   "name": "python",
   "nbconvert_exporter": "python",
   "pygments_lexer": "ipython3",
   "version": "3.6.5"
  }
 },
 "nbformat": 4,
 "nbformat_minor": 2
}
