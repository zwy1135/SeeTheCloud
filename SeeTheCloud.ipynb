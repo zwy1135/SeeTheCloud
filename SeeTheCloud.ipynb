{
 "cells": [
  {
   "cell_type": "markdown",
   "metadata": {},
   "source": [
    "# 云分类器"
   ]
  },
  {
   "cell_type": "code",
   "execution_count": null,
   "metadata": {
    "ExecuteTime": {
     "end_time": "2018-07-01T09:08:24.756505Z",
     "start_time": "2018-07-01T09:08:24.749486Z"
    }
   },
   "outputs": [],
   "source": [
    "import pickle\n",
    "import os"
   ]
  },
  {
   "cell_type": "code",
   "execution_count": null,
   "metadata": {
    "ExecuteTime": {
     "end_time": "2018-07-01T09:08:25.556633Z",
     "start_time": "2018-07-01T09:08:24.765529Z"
    }
   },
   "outputs": [],
   "source": [
    "import torch\n",
    "from torchvision import transforms, datasets, models\n",
    "import torch.nn as nn\n",
    "import torch.nn.functional as F"
   ]
  },
  {
   "cell_type": "markdown",
   "metadata": {},
   "source": [
    "## 载入数据"
   ]
  },
  {
   "cell_type": "code",
   "execution_count": null,
   "metadata": {
    "ExecuteTime": {
     "end_time": "2018-07-01T09:08:25.568663Z",
     "start_time": "2018-07-01T09:08:25.560672Z"
    }
   },
   "outputs": [],
   "source": [
    "train_data_path = r\"./data\"\n",
    "test_data_path = r\"./test\""
   ]
  },
  {
   "cell_type": "code",
   "execution_count": null,
   "metadata": {
    "ExecuteTime": {
     "end_time": "2018-07-01T09:08:25.586713Z",
     "start_time": "2018-07-01T09:08:25.575682Z"
    }
   },
   "outputs": [],
   "source": [
    "batch_size = 8"
   ]
  },
  {
   "cell_type": "code",
   "execution_count": null,
   "metadata": {},
   "outputs": [],
   "source": []
  },
  {
   "cell_type": "code",
   "execution_count": null,
   "metadata": {
    "ExecuteTime": {
     "end_time": "2018-07-01T09:08:25.603756Z",
     "start_time": "2018-07-01T09:08:25.594732Z"
    }
   },
   "outputs": [],
   "source": [
    "data_transform = transforms.Compose([\n",
    "    transforms.RandomAffine(90),\n",
    "    transforms.RandomGrayscale(),\n",
    "    transforms.RandomResizedCrop(256),\n",
    "    transforms.ColorJitter(),\n",
    "    transforms.ToTensor()\n",
    "])"
   ]
  },
  {
   "cell_type": "code",
   "execution_count": null,
   "metadata": {
    "ExecuteTime": {
     "end_time": "2018-07-01T09:08:25.629826Z",
     "start_time": "2018-07-01T09:08:25.610777Z"
    }
   },
   "outputs": [],
   "source": [
    "cloud_datasets = datasets.ImageFolder(train_data_path,transform=data_transform)"
   ]
  },
  {
   "cell_type": "code",
   "execution_count": null,
   "metadata": {
    "ExecuteTime": {
     "end_time": "2018-07-01T09:08:25.643862Z",
     "start_time": "2018-07-01T09:08:25.635843Z"
    }
   },
   "outputs": [],
   "source": [
    "image_loader = torch.utils.data.DataLoader(cloud_datasets,batch_size=batch_size,shuffle=True,num_workers=4)"
   ]
  },
  {
   "cell_type": "markdown",
   "metadata": {},
   "source": [
    "## 构造模型"
   ]
  },
  {
   "cell_type": "code",
   "execution_count": null,
   "metadata": {
    "ExecuteTime": {
     "end_time": "2018-07-01T09:08:25.657900Z",
     "start_time": "2018-07-01T09:08:25.651884Z"
    }
   },
   "outputs": [],
   "source": [
    "INPUT_PLANES = 3\n",
    "FIRST_LAYER_PLANES = 10"
   ]
  },
  {
   "cell_type": "code",
   "execution_count": null,
   "metadata": {},
   "outputs": [],
   "source": []
  },
  {
   "cell_type": "code",
   "execution_count": null,
   "metadata": {
    "ExecuteTime": {
     "end_time": "2018-07-01T09:08:25.674945Z",
     "start_time": "2018-07-01T09:08:25.662913Z"
    }
   },
   "outputs": [],
   "source": [
    "class BaseBlock(nn.Module):\n",
    "    def __init__(self, in_planes, out_planes):\n",
    "        super(BaseBlock, self).__init__()\n",
    "        self.conv1 = nn.Conv2d(in_planes,out_planes,3,padding=1)\n",
    "        self.conv2 = nn.Conv2d(out_planes,out_planes,3,padding=1)\n",
    "        self.shortcut = nn.Conv2d(in_planes,out_planes,1)\n",
    "        \n",
    "    def forward(self, x_in):\n",
    "        x1 = self.conv1(x_in)\n",
    "        x1 = F.relu(x1,inplace=True)\n",
    "        x1 = F.dropout(x1)\n",
    "        x1 = self.conv2(x1)\n",
    "        x1 = F.relu(x1,inplace=True)\n",
    "        x1 = F.dropout(x1)\n",
    "        x2 = self.shortcut(x_in)\n",
    "        \n",
    "        x_out = x1+x2\n",
    "        x_out = F.instance_norm(x_out)\n",
    "        x_out = F.dropout(x_out)\n",
    "        x_out = F.avg_pool2d(x_out,2)\n",
    "        \n",
    "        return x_out\n",
    "        "
   ]
  },
  {
   "cell_type": "code",
   "execution_count": null,
   "metadata": {
    "ExecuteTime": {
     "end_time": "2018-07-01T09:08:25.689986Z",
     "start_time": "2018-07-01T09:08:25.678956Z"
    }
   },
   "outputs": [],
   "source": [
    "class MyNet(nn.Module):\n",
    "    def __init__(self, planes, num_class):\n",
    "        super(MyNet, self).__init__()\n",
    "        self.layers = nn.ModuleList()\n",
    "        self.first_layer = nn.Conv2d(INPUT_PLANES,FIRST_LAYER_PLANES,1,padding=0)\n",
    "        self.out_layer = nn.Conv2d(planes[-1],num_class,1)\n",
    "        self.fc = nn.Linear(64*num_class,num_class)\n",
    "        pre_num = FIRST_LAYER_PLANES\n",
    "        for p in planes:\n",
    "            self.layers.append(BaseBlock(pre_num,p))\n",
    "            pre_num = p\n",
    "            \n",
    "    def forward(self, x):\n",
    "        x = self.first_layer(x)\n",
    "        for l in self.layers:\n",
    "            x = l(x)\n",
    "        x = self.out_layer(x)\n",
    "        x = x.view(x.size(0), -1)\n",
    "        x = self.fc(x)\n",
    "        \n",
    "        return x\n",
    "        "
   ]
  },
  {
   "cell_type": "code",
   "execution_count": null,
   "metadata": {
    "ExecuteTime": {
     "end_time": "2018-07-01T09:08:25.709038Z",
     "start_time": "2018-07-01T09:08:25.693998Z"
    }
   },
   "outputs": [],
   "source": [
    "planes = [64,64,128,256,256]"
   ]
  },
  {
   "cell_type": "code",
   "execution_count": null,
   "metadata": {
    "ExecuteTime": {
     "end_time": "2018-07-01T09:08:25.778247Z",
     "start_time": "2018-07-01T09:08:25.716055Z"
    }
   },
   "outputs": [],
   "source": [
    "classifier = MyNet(planes,10)"
   ]
  },
  {
   "cell_type": "code",
   "execution_count": null,
   "metadata": {
    "ExecuteTime": {
     "end_time": "2018-07-01T09:08:25.805292Z",
     "start_time": "2018-07-01T09:08:25.790252Z"
    }
   },
   "outputs": [],
   "source": [
    "model_path = r\"./model\""
   ]
  },
  {
   "cell_type": "code",
   "execution_count": null,
   "metadata": {
    "ExecuteTime": {
     "end_time": "2018-07-01T09:08:25.814317Z",
     "start_time": "2018-07-01T09:08:25.809303Z"
    }
   },
   "outputs": [],
   "source": [
    "model_name = r\"model.pickle\""
   ]
  },
  {
   "cell_type": "code",
   "execution_count": null,
   "metadata": {
    "ExecuteTime": {
     "end_time": "2018-07-01T09:08:25.850412Z",
     "start_time": "2018-07-01T09:08:25.818327Z"
    }
   },
   "outputs": [],
   "source": [
    "try:\n",
    "    with open(os.path.join(model_path,model_name),\"rb\") as f:\n",
    "        state_dict = pickle.load(f)\n",
    "        classifier.load_state_dict(state_dict)\n",
    "except:\n",
    "    print(\"can't load model\")"
   ]
  },
  {
   "cell_type": "markdown",
   "metadata": {},
   "source": [
    "##  训练模型"
   ]
  },
  {
   "cell_type": "markdown",
   "metadata": {},
   "source": [
    "### 选择loss和优化器"
   ]
  },
  {
   "cell_type": "code",
   "execution_count": null,
   "metadata": {
    "ExecuteTime": {
     "end_time": "2018-07-01T09:08:25.860439Z",
     "start_time": "2018-07-01T09:08:25.854423Z"
    }
   },
   "outputs": [],
   "source": [
    "loss = torch.nn.CrossEntropyLoss()\n",
    "optimizer = torch.optim.Adamax(classifier.parameters())"
   ]
  },
  {
   "cell_type": "markdown",
   "metadata": {},
   "source": [
    "### 定义训练流程"
   ]
  },
  {
   "cell_type": "code",
   "execution_count": null,
   "metadata": {
    "ExecuteTime": {
     "end_time": "2018-07-01T09:08:25.876481Z",
     "start_time": "2018-07-01T09:08:25.865452Z"
    }
   },
   "outputs": [],
   "source": [
    "def train(model, loss, optimizer, data_loader, epochs = 1, cuda = True):\n",
    "    if cuda:\n",
    "        device = torch.device(\"cuda:0\" if torch.cuda.is_available() else \"cpu\")\n",
    "        model.to(device)\n",
    "        model.train()\n",
    "    for epoch in range(epochs):\n",
    "        running_loss = 0.0\n",
    "        running_corrects = 0.0\n",
    "        data_sizes = 0.0\n",
    "        \n",
    "        for i,data in enumerate(data_loader):\n",
    "            inputs, labels = data\n",
    "            if cuda:\n",
    "                inputs, labels = inputs.to(device), labels.to(device)\n",
    "            \n",
    "            # zero the parameter gradients\n",
    "            optimizer.zero_grad()\n",
    "\n",
    "            # forward + backward + optimize\n",
    "            outputs = model(inputs)\n",
    "            #print(outputs)\n",
    "            preds = torch.argmax(outputs, dim=1)\n",
    "            \n",
    "            loss_result = loss(outputs, labels)\n",
    "            loss_result.backward()\n",
    "            optimizer.step()\n",
    "            \n",
    "            running_loss += loss_result.item()\n",
    "            running_corrects += torch.sum(preds == labels.data)\n",
    "            data_sizes += len(labels)\n",
    "            \n",
    "        print('[%d, %5d] loss: %.6f, acc: %.6f' %\n",
    "          (epoch + 1, data_sizes, running_loss / data_sizes, running_corrects.item() / data_sizes))"
   ]
  },
  {
   "cell_type": "markdown",
   "metadata": {},
   "source": [
    "### 训练模型"
   ]
  },
  {
   "cell_type": "code",
   "execution_count": null,
   "metadata": {
    "ExecuteTime": {
     "start_time": "2018-07-01T09:56:48.891Z"
    }
   },
   "outputs": [],
   "source": [
    "train(classifier,loss, optimizer, image_loader, epochs=100)"
   ]
  },
  {
   "cell_type": "markdown",
   "metadata": {},
   "source": [
    "### 保存模型"
   ]
  },
  {
   "cell_type": "code",
   "execution_count": null,
   "metadata": {
    "ExecuteTime": {
     "start_time": "2018-07-01T09:56:49.742Z"
    }
   },
   "outputs": [],
   "source": [
    "with open(os.path.join(model_path,model_name),\"wb\") as f:\n",
    "    device = torch.device(\"cpu\")\n",
    "    classifier.to(device)\n",
    "    state_dict = classifier.state_dict()\n",
    "    pickle.dump(state_dict,f)"
   ]
  },
  {
   "cell_type": "code",
   "execution_count": null,
   "metadata": {},
   "outputs": [],
   "source": []
  },
  {
   "cell_type": "code",
   "execution_count": null,
   "metadata": {},
   "outputs": [],
   "source": []
  }
 ],
 "metadata": {
  "kernelspec": {
   "display_name": "Python 3",
   "language": "python",
   "name": "python3"
  },
  "language_info": {
   "codemirror_mode": {
    "name": "ipython",
    "version": 3
   },
   "file_extension": ".py",
   "mimetype": "text/x-python",
   "name": "python",
   "nbconvert_exporter": "python",
   "pygments_lexer": "ipython3",
   "version": "3.6.5"
  }
 },
 "nbformat": 4,
 "nbformat_minor": 2
}
